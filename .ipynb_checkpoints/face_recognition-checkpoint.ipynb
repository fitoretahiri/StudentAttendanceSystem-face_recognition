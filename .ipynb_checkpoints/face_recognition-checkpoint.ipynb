{
 "cells": [
  {
   "cell_type": "markdown",
   "id": "6fccacf1-456b-43fa-b1ee-a9161210239e",
   "metadata": {},
   "source": [
    "# Generate dataset"
   ]
  },
  {
   "cell_type": "code",
   "execution_count": 3,
   "id": "eb720783-8eff-46b8-a3f1-7f5501869cbb",
   "metadata": {},
   "outputs": [],
   "source": [
    "import cv2"
   ]
  },
  {
   "cell_type": "code",
   "execution_count": 6,
   "id": "091c7e1d-3da9-43e6-bbc8-7aed5979f713",
   "metadata": {},
   "outputs": [
    {
     "name": "stderr",
     "output_type": "stream",
     "text": [
      "<>:9: SyntaxWarning: \"is\" with a literal. Did you mean \"==\"?\n",
      "<>:9: SyntaxWarning: \"is\" with a literal. Did you mean \"==\"?\n",
      "C:\\Users\\fitor\\AppData\\Local\\Temp\\ipykernel_14024\\3196987603.py:9: SyntaxWarning: \"is\" with a literal. Did you mean \"==\"?\n",
      "  if faces is ():\n"
     ]
    },
    {
     "name": "stdout",
     "output_type": "stream",
     "text": [
      "Collecting samples is completed...............\n"
     ]
    }
   ],
   "source": [
    "def generate_Dataset():\n",
    "    # Cascade classifier\n",
    "    face_classifier = cv2.CascadeClassifier(\"haarcascade_frontalface_default.xml\")\n",
    "    # convert image in grayscale image from rgb\n",
    "    def face_cropped(img):\n",
    "        gray = cv2.cvtColor(img, cv2.COLOR_BGR2GRAY)\n",
    "        faces = face_classifier.detectMultiScale(gray,1.2,5)\n",
    "\n",
    "        if faces is ():\n",
    "            return None\n",
    "        for(x,y,w,h) in faces:\n",
    "            cropped_face=img[y:y+h,x:x+w]\n",
    "        return cropped_face \n",
    "    camera = cv2.VideoCapture(0)\n",
    "    id=1\n",
    "    img_id=0\n",
    "\n",
    "    while True:\n",
    "        ret,frame = camera.read()\n",
    "        if face_cropped(frame) is not None:\n",
    "            img_id+=1\n",
    "            face = cv2.resize(face_cropped(frame),(200,200))\n",
    "            face = cv2.cvtColor(face, cv2.COLOR_BGR2GRAY)\n",
    "            file_path = \"Data/user.\"+str(id) +\".\"+str(img_id)+\".jpg\"\n",
    "            cv2.imwrite(file_path,face)\n",
    "            cv2.putText(face,str(img_id),(50,50),cv2.FONT_HERSHEY_COMPLEX,1,(0,255,0),2)\n",
    "            cv2.imshow(\"Cropped face\", face)\n",
    "            if cv2.waitKey(1)==13 or int(img_id)==50:\n",
    "                break\n",
    "    camera.release()\n",
    "    cv2.destroyAllWindows()\n",
    "    print(\"Collecting samples is completed...............\")\n",
    "\n",
    "generate_Dataset()\n",
    "            "
   ]
  },
  {
   "cell_type": "code",
   "execution_count": null,
   "id": "5347252e-e542-44eb-859b-4adcee0bd1db",
   "metadata": {},
   "outputs": [],
   "source": []
  }
 ],
 "metadata": {
  "kernelspec": {
   "display_name": "Python 3 (ipykernel)",
   "language": "python",
   "name": "python3"
  },
  "language_info": {
   "codemirror_mode": {
    "name": "ipython",
    "version": 3
   },
   "file_extension": ".py",
   "mimetype": "text/x-python",
   "name": "python",
   "nbconvert_exporter": "python",
   "pygments_lexer": "ipython3",
   "version": "3.10.6"
  }
 },
 "nbformat": 4,
 "nbformat_minor": 5
}
