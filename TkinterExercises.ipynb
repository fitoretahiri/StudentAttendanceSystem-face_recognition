{
 "cells": [
  {
   "cell_type": "code",
   "execution_count": 18,
   "id": "e28882c1-c4ca-4591-a4ff-d05d5fb6e680",
   "metadata": {},
   "outputs": [],
   "source": [
    "import tkinter as tk\n",
    "from tkinter import *"
   ]
  },
  {
   "cell_type": "code",
   "execution_count": 36,
   "id": "4fcf4f58-d7b5-4793-9e17-550882878f31",
   "metadata": {},
   "outputs": [],
   "source": [
    "window = tk.Tk()\n",
    "\n",
    "window.title(\"Student Attendance System\")\n",
    "\n",
    "#Label\n",
    "label1 = tk.Label(window,text=\"Name\")\n",
    "#label1.grid(column=0,row=0)\n",
    "#label1.pack()   -> this means that label1 takes the whole row\n",
    "label1.place(x=5,y=0)\n",
    "\n",
    "field1 = tk.Entry(window, width=25)\n",
    "#field1.grid(column=1, row=0)\n",
    "#field1.pack(fill=BOTH)  -> this means that field1 is in a new row and also its width is the whole row\n",
    "field1.place(x=90,y=0)\n",
    "\n",
    "label2 = tk.Label(window, text=\"Surname\")\n",
    "label2.place(x=5,y=50)\n",
    "f2 = tk.Entry(window, width=25)\n",
    "f2.place(x=90,y=55)\n",
    "\n",
    "#Button\n",
    "b1 = tk.Button(window, text=\"Register\")\n",
    "b1.place(x=150,y=100)\n",
    "\n",
    "window.geometry(\"700x400\")\n",
    "window.mainloop()"
   ]
  },
  {
   "cell_type": "code",
   "execution_count": null,
   "id": "98f145a4-fbab-4fb9-8037-9af5b6059b44",
   "metadata": {},
   "outputs": [],
   "source": []
  }
 ],
 "metadata": {
  "kernelspec": {
   "display_name": "Python 3 (ipykernel)",
   "language": "python",
   "name": "python3"
  },
  "language_info": {
   "codemirror_mode": {
    "name": "ipython",
    "version": 3
   },
   "file_extension": ".py",
   "mimetype": "text/x-python",
   "name": "python",
   "nbconvert_exporter": "python",
   "pygments_lexer": "ipython3",
   "version": "3.10.6"
  }
 },
 "nbformat": 4,
 "nbformat_minor": 5
}
