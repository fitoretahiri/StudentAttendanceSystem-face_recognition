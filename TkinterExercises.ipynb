{
 "cells": [
  {
   "cell_type": "code",
   "execution_count": 18,
   "id": "e28882c1-c4ca-4591-a4ff-d05d5fb6e680",
   "metadata": {},
   "outputs": [],
   "source": [
    "import tkinter as tk\n",
    "from tkinter import *"
   ]
  },
  {
   "cell_type": "code",
   "execution_count": 36,
   "id": "4fcf4f58-d7b5-4793-9e17-550882878f31",
   "metadata": {},
   "outputs": [],
   "source": [
    "window = tk.Tk()\n",
    "\n",
    "window.title(\"Student Attendance System\")\n",
    "\n",
    "#Label\n",
    "label1 = tk.Label(window,text=\"Name\")\n",
    "#label1.grid(column=0,row=0)\n",
    "#label1.pack()   -> this means that label1 takes the whole row\n",
    "label1.place(x=5,y=0)\n",
    "\n",
    "field1 = tk.Entry(window, width=25)\n",
    "#field1.grid(column=1, row=0)\n",
    "#field1.pack(fill=BOTH)  -> this means that field1 is in a new row and also its width is the whole row\n",
    "field1.place(x=90,y=0)\n",
    "\n",
    "label2 = tk.Label(window, text=\"Surname\")\n",
    "label2.place(x=5,y=50)\n",
    "f2 = tk.Entry(window, width=25)\n",
    "f2.place(x=90,y=55)\n",
    "\n",
    "#Button\n",
    "b1 = tk.Button(window, text=\"Register\")\n",
    "b1.place(x=150,y=100)\n",
    "\n",
    "window.geometry(\"700x400\")\n",
    "window.mainloop()"
   ]
  },
  {
   "cell_type": "code",
   "execution_count": 15,
   "id": "179ae443-278d-4536-93c3-aaecae84eeab",
   "metadata": {},
   "outputs": [],
   "source": [
    "import pyodbc"
   ]
  },
  {
   "cell_type": "code",
   "execution_count": 28,
   "id": "45b24b92-01a2-405c-a552-321814c47855",
   "metadata": {},
   "outputs": [],
   "source": [
    "driver= '{SQL Server Native Client 11.0}'\n",
    "\n",
    "cnxn = pyodbc.connect(\n",
    "    Trusted_Connection='Yes',\n",
    "    Driver='{SQL Server Native Client 11.0}',\n",
    "    Server='.',\n",
    "    Database='SAS'\n",
    ")"
   ]
  },
  {
   "cell_type": "code",
   "execution_count": 29,
   "id": "bd45125b-e407-48bc-9bb2-9acca3c26ef9",
   "metadata": {},
   "outputs": [
    {
     "name": "stdout",
     "output_type": "stream",
     "text": [
      "<pyodbc.Connection object at 0x0000018756165550>\n"
     ]
    }
   ],
   "source": [
    "print(cnxn)"
   ]
  },
  {
   "cell_type": "code",
   "execution_count": 30,
   "id": "0727d80f-158c-4a66-9b81-2d6712050b71",
   "metadata": {},
   "outputs": [],
   "source": [
    "cursor = cnxn.cursor()"
   ]
  },
  {
   "cell_type": "code",
   "execution_count": 33,
   "id": "d3e639a2-c8df-41c4-9381-e58240e690b5",
   "metadata": {},
   "outputs": [
    {
     "data": {
      "text/plain": [
       "<pyodbc.Cursor at 0x187562c6e30>"
      ]
     },
     "execution_count": 33,
     "metadata": {},
     "output_type": "execute_result"
    }
   ],
   "source": [
    "cursor.execute(\"Select*from Students\")"
   ]
  },
  {
   "cell_type": "code",
   "execution_count": null,
   "id": "db9d553b-a3d3-47a4-9b9c-eb0497b3f593",
   "metadata": {},
   "outputs": [],
   "source": []
  }
 ],
 "metadata": {
  "kernelspec": {
   "display_name": "Python 3 (ipykernel)",
   "language": "python",
   "name": "python3"
  },
  "language_info": {
   "codemirror_mode": {
    "name": "ipython",
    "version": 3
   },
   "file_extension": ".py",
   "mimetype": "text/x-python",
   "name": "python",
   "nbconvert_exporter": "python",
   "pygments_lexer": "ipython3",
   "version": "3.10.6"
  }
 },
 "nbformat": 4,
 "nbformat_minor": 5
}
