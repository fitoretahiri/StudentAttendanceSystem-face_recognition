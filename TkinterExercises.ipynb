{
 "cells": [
  {
   "cell_type": "code",
   "execution_count": 1,
   "id": "e28882c1-c4ca-4591-a4ff-d05d5fb6e680",
   "metadata": {},
   "outputs": [],
   "source": [
    "import tkinter as tk\n",
    "from tkinter import *"
   ]
  },
  {
   "cell_type": "code",
   "execution_count": 2,
   "id": "4fcf4f58-d7b5-4793-9e17-550882878f31",
   "metadata": {},
   "outputs": [],
   "source": [
    "window = tk.Tk()\n",
    "\n",
    "window.title(\"Student Attendance System\")\n",
    "\n",
    "#Label\n",
    "label1 = tk.Label(window,text=\"Name\")\n",
    "#label1.grid(column=0,row=0)\n",
    "#label1.pack()   -> this means that label1 takes the whole row\n",
    "label1.place(x=5,y=0)\n",
    "\n",
    "field1 = tk.Entry(window, width=25)\n",
    "#field1.grid(column=1, row=0)\n",
    "#field1.pack(fill=BOTH)  -> this means that field1 is in a new row and also its width is the whole row\n",
    "field1.place(x=90,y=0)\n",
    "\n",
    "label2 = tk.Label(window, text=\"Surname\")\n",
    "label2.place(x=5,y=50)\n",
    "f2 = tk.Entry(window, width=25)\n",
    "f2.place(x=90,y=55)\n",
    "\n",
    "#Button\n",
    "b1 = tk.Button(window, text=\"Register\")\n",
    "b1.place(x=150,y=100)\n",
    "\n",
    "window.geometry(\"700x400\")\n",
    "window.mainloop()"
   ]
  },
  {
   "cell_type": "code",
   "execution_count": 3,
   "id": "179ae443-278d-4536-93c3-aaecae84eeab",
   "metadata": {},
   "outputs": [],
   "source": [
    "import pyodbc"
   ]
  },
  {
   "cell_type": "code",
   "execution_count": 4,
   "id": "45b24b92-01a2-405c-a552-321814c47855",
   "metadata": {},
   "outputs": [],
   "source": [
    "driver= '{SQL Server Native Client 11.0}'\n",
    "\n",
    "cnxn = pyodbc.connect(\n",
    "    Trusted_Connection='Yes',\n",
    "    Driver='{SQL Server Native Client 11.0}',\n",
    "    Server='.',\n",
    "    Database='SAS'\n",
    ")"
   ]
  },
  {
   "cell_type": "code",
   "execution_count": 29,
   "id": "bd45125b-e407-48bc-9bb2-9acca3c26ef9",
   "metadata": {},
   "outputs": [
    {
     "name": "stdout",
     "output_type": "stream",
     "text": [
      "<pyodbc.Connection object at 0x0000018756165550>\n"
     ]
    }
   ],
   "source": [
    "print(cnxn)"
   ]
  },
  {
   "cell_type": "code",
   "execution_count": 30,
   "id": "0727d80f-158c-4a66-9b81-2d6712050b71",
   "metadata": {},
   "outputs": [],
   "source": [
    "cursor = cnxn.cursor()"
   ]
  },
  {
   "cell_type": "code",
   "execution_count": 33,
   "id": "d3e639a2-c8df-41c4-9381-e58240e690b5",
   "metadata": {},
   "outputs": [
    {
     "data": {
      "text/plain": [
       "<pyodbc.Cursor at 0x187562c6e30>"
      ]
     },
     "execution_count": 33,
     "metadata": {},
     "output_type": "execute_result"
    }
   ],
   "source": [
    "cursor.execute(\"Select*from Students\")"
   ]
  },
  {
   "cell_type": "code",
   "execution_count": 6,
   "id": "db9d553b-a3d3-47a4-9b9c-eb0497b3f593",
   "metadata": {},
   "outputs": [],
   "source": [
    "import tkinter as tk\n",
    "from tkinter import messagebox\n",
    "import numpy as np\n",
    "import cv2\n",
    "import PIL.Image\n",
    "import os\n",
    "from tkinter import *\n",
    "import pyodbc\n",
    "from tkinter import font"
   ]
  },
  {
   "cell_type": "code",
   "execution_count": 10,
   "id": "7d327e6c-bcc7-46ef-807f-a719c005b26d",
   "metadata": {},
   "outputs": [],
   "source": [
    "window = tk.Tk()\n",
    "window.title(\"Student attendance system\")\n",
    "window.configure(bg='#213555')\n",
    "\n",
    "custom_font = (\"KOULEN\", 38)\n",
    "bold = font.Font(weight=\"bold\", size=24)\n",
    "text_label = tk.Label(window, text=\"STUDENT ATTENDANCE SYSTEM\", font=custom_font, bg='#213555', fg='#F0F0F0')\n",
    "text_label.pack(pady=50)\n",
    "\n",
    "b1 = tk.Button(window, text=\"Regjistrohu ne sistem\", bg='#09ba94',fg='#F0F0F0', bd=0 , width=20, height=1, relief=tk.RIDGE, font=bold)\n",
    "b1.pack()\n",
    "#b3.place(x=220, y=40)\n",
    "\n",
    "b2 = tk.Button(window, text=\"Ruaj prezencen\", bg='#09ba94',fg='#F0F0F0', bd=0, width=20, height=1, relief=tk.RIDGE, font=bold)\n",
    "b2.pack(pady=40)\n",
    "\n",
    "b3 = tk.Button(window, text=\"Train model\", bg='#09ba94',fg='#F0F0F0', bd=0, width=20, height=1, relief=tk.RIDGE, font=bold)\n",
    "b3.pack()\n",
    "\n",
    "window.geometry(\"1000x600\")\n",
    "window.mainloop()"
   ]
  },
  {
   "cell_type": "markdown",
   "id": "e4a78cad-584a-4833-ae93-4395f9eeca7c",
   "metadata": {},
   "source": [
    "Frame second for register form"
   ]
  },
  {
   "cell_type": "code",
   "execution_count": 13,
   "id": "cd0897c6-1dec-4834-9221-9c86eccc7977",
   "metadata": {},
   "outputs": [],
   "source": [
    "window = tk.Tk()\n",
    "window.title(\"Student attendance system\")\n",
    "window.configure(bg='#213555')\n",
    "bold = font.Font(weight=\"bold\", size=14)\n",
    "\n",
    "button_font = (\"INTER\", 10)\n",
    "label_font = (\"INTER\", 15)\n",
    "b1 = tk.Button(window, text=\"Kthehu prapa\", bg='#09ba94',fg='#F0F0F0', width=12, height=1, relief=tk.RIDGE, bd=0, font=bold)\n",
    "b1.pack(pady=40, padx=40, anchor=\"nw\")\n",
    "\n",
    "l1 = tk.Label(window, text=\"Emri\", font=label_font, bg='#213555', fg='#F0F0F0')\n",
    "l1.pack(pady=5, padx=204, anchor=\"nw\")\n",
    "f1 = tk.Entry(window, width=28, relief=tk.RIDGE, font=('Arial',28), bg='#F0F0F0')\n",
    "f1.pack()\n",
    "\n",
    "l2 = tk.Label(window, text=\"Mbiemri\", font=label_font, bg='#213555', fg='#F0F0F0')\n",
    "l2.pack(pady=5, padx=204, anchor=\"nw\")\n",
    "f2 = tk.Entry(window,width=28, relief=tk.RIDGE, font=('Arial',28), bg='#F0F0F0')\n",
    "f2.pack()\n",
    "\n",
    "l3 = tk.Label(window, text=\"Mosha\", font=label_font, bg='#213555', fg='#F0F0F0')\n",
    "l3.pack(pady=5, padx=204, anchor=\"nw\")\n",
    "f3 = tk.Entry(window,width=28, relief=tk.RIDGE, font=('Arial',28), bg='#F0F0F0')\n",
    "f3.pack()\n",
    "\n",
    "b2 = tk.Button(window, text=\"Regjistrohu\", bg='#09ba94',fg='#F0F0F0', width=16, height=2, relief=tk.RIDGE, bd=0, font=bold)\n",
    "b2.pack(pady=40)\n",
    "\n",
    "window.geometry(\"1000x600\")\n",
    "window.mainloop()"
   ]
  },
  {
   "cell_type": "code",
   "execution_count": null,
   "id": "c4d6611d-daaf-4a18-8d47-31bca1179396",
   "metadata": {},
   "outputs": [],
   "source": []
  }
 ],
 "metadata": {
  "kernelspec": {
   "display_name": "Python 3 (ipykernel)",
   "language": "python",
   "name": "python3"
  },
  "language_info": {
   "codemirror_mode": {
    "name": "ipython",
    "version": 3
   },
   "file_extension": ".py",
   "mimetype": "text/x-python",
   "name": "python",
   "nbconvert_exporter": "python",
   "pygments_lexer": "ipython3",
   "version": "3.10.6"
  }
 },
 "nbformat": 4,
 "nbformat_minor": 5
}
